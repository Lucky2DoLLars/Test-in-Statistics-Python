{
 "cells": [
  {
   "cell_type": "code",
   "execution_count": 61,
   "metadata": {},
   "outputs": [],
   "source": [
    "import numpy as np\n",
    "import matplotlib.pyplot as plt\n",
    "import scipy.stats as stats"
   ]
  },
  {
   "cell_type": "code",
   "execution_count": 62,
   "metadata": {},
   "outputs": [],
   "source": [
    "iter = 10 ** 4\n",
    "n = 50\n",
    "mu = 5\n",
    "sd = 1\n",
    "level = 0.05\n",
    "t_value = stats.t.ppf(q = 1 - level / 2, df = n - 1)"
   ]
  },
  {
   "cell_type": "code",
   "execution_count": 63,
   "metadata": {},
   "outputs": [],
   "source": [
    "ci = np.empty([iter, 2])\n",
    "result = np.empty(iter)\n",
    "\n",
    "for i in range(0, iter):\n",
    "    x = np.random.normal(loc = mu, scale = sd, size = n)\n",
    "    mean_x = np.mean(x)\n",
    "    sd_x = np.std(x)\n",
    "    lower_ci = mean_x - t_value * sd_x / np.sqrt(n)\n",
    "    upper_ci = mean_x + t_value * sd_x / np.sqrt(n)\n",
    "    ci[i, ] = [lower_ci, upper_ci]\n",
    "    include = (lower_ci <= mu) and (mu <= upper_ci)\n",
    "    result[i] = include"
   ]
  },
  {
   "cell_type": "code",
   "execution_count": 67,
   "metadata": {},
   "outputs": [
    {
     "name": "stdout",
     "output_type": "stream",
     "text": [
      "The ratio that the confidence interval includes mu : 0.9482\n"
     ]
    }
   ],
   "source": [
    "ratio = np.mean(result)\n",
    "print('The ratio that the confidence interval includes mu : {}'. format(ratio))"
   ]
  }
 ],
 "metadata": {
  "kernelspec": {
   "display_name": "Python 3",
   "language": "python",
   "name": "python3"
  },
  "language_info": {
   "codemirror_mode": {
    "name": "ipython",
    "version": 3
   },
   "file_extension": ".py",
   "mimetype": "text/x-python",
   "name": "python",
   "nbconvert_exporter": "python",
   "pygments_lexer": "ipython3",
   "version": "3.8.5"
  }
 },
 "nbformat": 4,
 "nbformat_minor": 4
}
