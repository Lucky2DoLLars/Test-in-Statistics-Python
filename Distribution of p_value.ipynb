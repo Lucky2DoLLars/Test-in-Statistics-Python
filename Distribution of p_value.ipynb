{
 "cells": [
  {
   "cell_type": "code",
   "execution_count": 8,
   "metadata": {},
   "outputs": [],
   "source": [
    "import numpy as np\n",
    "import matplotlib.pyplot as plt\n",
    "import scipy.stats as stats"
   ]
  },
  {
   "cell_type": "code",
   "execution_count": 10,
   "metadata": {},
   "outputs": [],
   "source": [
    "num_iter = 10 ** 5\n",
    "n = 100\n",
    "mu = 5\n",
    "sd = 1\n",
    "\n",
    "result = []\n",
    "for i in range(1, num_iter + 1):\n",
    "    x = np.random.normal(mu, sd, n)\n",
    "    se = np.std(x) / np.sqrt(n)\n",
    "    t = ( np.mean(x) - mu ) / se\n",
    "    prob_get_extream = 1 - stats.t.cdf(t, n - 1)\n",
    "    result.append(prob_get_extream)"
   ]
  },
  {
   "cell_type": "code",
   "execution_count": 11,
   "metadata": {},
   "outputs": [
    {
     "data": {
      "image/png": "[encoded data removed]",
      "text/plain": [
       "<Figure size 432x288 with 1 Axes>"
      ]
     },
     "metadata": {
      "needs_background": "light"
     },
     "output_type": "display_data"
    }
   ],
   "source": [
    "plt.hist(result,\n",
    "        bins = 50,\n",
    "        density = True)\n",
    "plt.title('Histogram of distribution of p_value')\n",
    "plt.show()"
   ]
  },
  {
   "cell_type": "code",
   "execution_count": null,
   "metadata": {},
   "outputs": [],
   "source": [
    "x_grid = np.linspace(-15, 15, 9)\n",
    "stats.kstest(result, 'unifo')"
   ]
  }
 ],
 "metadata": {
  "kernelspec": {
   "display_name": "Python 3",
   "language": "python",
   "name": "python3"
  },
  "language_info": {
   "codemirror_mode": {
    "name": "ipython",
    "version": 3
   },
   "file_extension": ".py",
   "mimetype": "text/x-python",
   "name": "python",
   "nbconvert_exporter": "python",
   "pygments_lexer": "ipython3",
   "version": "3.8.5"
  }
 },
 "nbformat": 4,
 "nbformat_minor": 4
}
